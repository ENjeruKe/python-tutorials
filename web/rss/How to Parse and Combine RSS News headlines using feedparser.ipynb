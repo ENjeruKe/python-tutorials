{
 "cells": [
  {
   "cell_type": "markdown",
   "metadata": {},
   "source": [
    "This tutorial and IPython notebook can be found at \n",
    "\n",
    "http://jcutrer.com/howto/dev/python/python-tutorial-howto-parse-rss-headlines\n",
    "\n",
    "The feedparser package is required, install it with the following command.\n",
    "\n",
    "`pip install feedparser`"
   ]
  },
  {
   "cell_type": "code",
   "execution_count": 2,
   "metadata": {
    "collapsed": false
   },
   "outputs": [],
   "source": [
    "import feedparser\n",
    "\n",
    "# Function to fetch the rss feed and return the parsed RSS\n",
    "def parseRSS( rss_url ):\n",
    "    return feedparser.parse( rss_url ) \n",
    "    \n",
    "# Function grabs the rss feed headlines (titles) and returns them as a list\n",
    "def getHeadlines( rss_url ):\n",
    "    headlines = []\n",
    "    \n",
    "    feed = parseRSS( rss_url )\n",
    "    for newsitem in feed['items']:\n",
    "        headlines.append(newsitem['title'])\n",
    "    \n",
    "    return headlines"
   ]
  },
  {
   "cell_type": "code",
   "execution_count": 4,
   "metadata": {
    "collapsed": false,
    "scrolled": false
   },
   "outputs": [
    {
     "name": "stdout",
     "output_type": "stream",
     "text": [
      "Trump lashes out at Schiff over Russia probe memo\n",
      "Former sports doctor sentenced to 40 to 125 years in prison\n",
      "AP Exclusive: 2015 letter belies pope's claim of ignorance\n",
      "Foles outduels Brady to give Eagles their first Super Bowl\n",
      "Philadelphia cleaning up after some celebrations turn unruly\n",
      "How the Eagles beat the Patriots at own game, and why the upset was historic\n",
      "Who is Adam Schiff? Top Democrat Earns Nickname 'Little' From President Trump\n",
      "New bipartisan immigration plan to be introduced in the Senate\n",
      "Martin Luther King Jr. Commercial for Ram Trucks Is Swiftly Criticized\n",
      "Justin Timberlake Halftime Selfie Kid Speaks: 'I Just Went for It'\n",
      "Super Bowl anti-terrorism documents found on plane\n",
      "Larry Nassar sentenced to 40 to 125 years in Eaton County\n",
      "The Kentucky State Police's poorly received Super Bowl joke about jail rape\n",
      "The first 'Solo: A Star Wars Story' trailer is here. But is it any good?\n",
      "Sole Surviving Suspect in Paris Attacks Stands Trial in Belgium\n",
      "Esmond Bradley Martin: Ivory investigator killed in Kenya\n",
      "This is the fourth fatal crash involving an Amtrak train in two months\n",
      "Everything you need to know about the Falcon Heavy launch\n",
      "How the Ending of The Cloverfield Paradox Relates to the Other Cloverfield Movies\n",
      "Rain put a damper on Super Bowl Sunday\n",
      "These are the 3 best Amazon deals that you can get right now\n",
      "Broadcom sweetens its bid for Qualcomm, calling it the 'best and final' offer\n",
      "Israeli man stabbed to death at West Bank settlement\n",
      "Autistic UK Man Accused of Hacking FBI Wins Appeal Against Extradition to US\n",
      "Review: 'This Is Us' (thankfully) resists overdoing Jack's death\n",
      "White House Plans To Withdraw &apos;Conspiracy Theorist And Anti-Science Extremist’ Pick\n",
      "Hype over Republican Memo leads to calls for Justice Department firing\n",
      "A Suspected Serial Killer May Have Targeted Toronto&apos;s Gay Village For Years\n",
      "Oil tanker with 22 Indian crew missing in Gulf of Guinea since Friday\n",
      "We&apos;re Never Going To &apos;Win&apos; In Afghanistan\n",
      "Lasers on planes used to reveal massive massive complex of Mayan ruins\n",
      "Egypt says 4,400-year-old tomb discovered outside Cairo\n",
      "Nassar Reportedly Abused Over 2 Dozen Girls And Women During Sluggish FBI Investigation\n",
      "Alaskan copper mine proposal sparks concern about wild salmon fishery\n",
      "Donald Trump will trigger constitutional crisis if he uses declassified memo to end Russia probe, Democrats warn\n",
      "North Korea makes $200m by &#39;flouting&#39; sanctions\n",
      "Police release &#39;kidnapped&#39; priest in DR Congo\n",
      "Court hands Vietnam oil official another life sentence for corruption\n",
      "Paul Ryan: Secretary Getting $1.50 More A Week Shows Effect Of GOP Tax Cuts\n",
      "An Actual Nazi Is About To Get The Republican Nomination For A Congressional Seat\n",
      "Hawaii man says he&#39;s devastated about sending missile alert\n",
      "Concussions and Protests: Football&apos;s popularity drops\n",
      "Man Charged With Selling Armor-Piercing Bullets to Las Vegas Shooter Stephen Paddock\n",
      "Years Of U.S. Government Lies Could Soon Result In A Kurdish Massacre\n",
      "Mexico: 300 migrants found in dangerously cramped trucks\n",
      "Not just boy and girl; more teens identify as transgender\n",
      "Congo rebel leader extradited from Tanzania to face trial\n",
      "Father Of Otto Warmbier Will Attend Winter Olympics In South Korea: Report\n",
      "Europe must brake mounting nuclear arms race: Germany\n",
      "Leon Panetta on fallout from the Nunes memo\n",
      "This Kid Looking At His Phone Is The Super Bowl&apos;s Best Meme\n",
      "Larry Nassar: Thousands raised for father who charged at paedophile doctor jailed for abusing his gymnast daughters\n",
      "Dreamers Need More Cities And States Ready To Defy Trump\n",
      "Warren Buffett on hand as Navy commissions newest warship\n",
      "A Controversial Bill Would Allow Chemical Castration of Sex Offenders in Oklahoma\n",
      "Israel legalizes West Bank outpost after settler killed\n",
      "Uma Thurman Says Harvey Weinstein Assaulted Her\n",
      "Thousands of Greeks protest against Macedonia name compromise\n",
      "Syrian rebels down Russian plane, kill pilot\n",
      "These Pups Rescued From Puerto Rico Are Part Of This Year&apos;s Puppy Bowl\n",
      "Woman who cut baby from pregnant neighbour&apos;s womb weeps as she apologises in court: &apos;There is no excuse. There is nothing&apos;\n",
      "Mike Pence to stop North Korea &apos;hijacking&apos; Winter Olympics, aide says\n",
      "Man dies after rescuing 9-year-old son from aqueduct in Hesperia\n",
      "School system&#39;s appeals process leaves some minorities out\n",
      "Illinois GOP Rep. Under Fire For Ad Mocking Transgender Community, Feminists\n",
      "After An NFL Season Defined By Black Protest, The Super Bowl Sticks To Sports\n",
      "U.S. forces begin reducing numbers in Iraq: Iraqi spokesman\n",
      "Poland&#39;s top politician: Holocaust bill is &#39;misunderstood&#39;\n",
      "Bodies of around 20 migrants recovered from sea: Spanish official\n",
      "Suspect arrested in Italy after gun attack on foreigners\n",
      "Madeleine Albright Would Give Devin Nunes An &apos;F&apos; For Memo Stunt\n",
      "I tried living like Tom Brady for a week\n",
      "Survey: Most residents in struggling US areas respect police\n",
      "In Super Bowl ads, a play for values and a contentious MLK message\n",
      "Indianapolis Colts&apos; Edwin Jackson Killed By Suspected Drunk Driver\n"
     ]
    }
   ],
   "source": [
    "# A list to hold all headlines\n",
    "allheadlines = []\n",
    "\n",
    "# List of RSS feeds that we will fetch and combine\n",
    "newsurls = {\n",
    "    'apnews':           'http://hosted2.ap.org/atom/APDEFAULT/3d281c11a96b4ad082fe88aa0db04305',\n",
    "    'googlenews':       'https://news.google.com/news/rss/?hl=en&ned=us&gl=US',\n",
    "    'yahoonews':        'http://news.yahoo.com/rss/'\n",
    "}\n",
    "\n",
    "# Iterate over the feed urls\n",
    "for key,url in newsurls.items():\n",
    "    # Call getHeadlines() and combine the returned headlines with allheadlines\n",
    "    allheadlines.extend( getHeadlines( url ) )\n",
    "\n",
    "\n",
    "# Iterate over the allheadlines list and print each headline\n",
    "for hl in allheadlines:\n",
    "    print(hl)"
   ]
  },
  {
   "cell_type": "markdown",
   "metadata": {},
   "source": [
    "I hope you find this python example useful and educational.  You are free to use the above code how you see fit.  I do however suggest that you implement some type of rss feed caching as some services may block your ip for excessive requests.\n",
    "\n",
    "More Python Tutorials - http://jcutrer.com/howto/dev/python/\n",
    "\n",
    "Question, Comments, Suggestions - http://jcutrer.com/howto/dev/python/python-tutorial-howto-parse-rss-headlines\n",
    "    \n",
    " "
   ]
  }
 ],
 "metadata": {
  "kernelspec": {
   "display_name": "Python 3",
   "language": "python",
   "name": "python3"
  },
  "language_info": {
   "codemirror_mode": {
    "name": "ipython",
    "version": 3
   },
   "file_extension": ".py",
   "mimetype": "text/x-python",
   "name": "python",
   "nbconvert_exporter": "python",
   "pygments_lexer": "ipython3",
   "version": "3.6.4"
  }
 },
 "nbformat": 4,
 "nbformat_minor": 2
}
