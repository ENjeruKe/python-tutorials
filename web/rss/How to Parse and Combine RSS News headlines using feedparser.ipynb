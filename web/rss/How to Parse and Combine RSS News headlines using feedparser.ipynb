{
 "cells": [
  {
   "cell_type": "markdown",
   "metadata": {},
   "source": [
    "This tutorial and IPython notebook can be found at \n",
    "\n",
    "http://jcutrer.com/howto/dev/python/python-tutorial-howto-parse-rss-headlines\n",
    "\n",
    "The feedparser package is required, install it with the following command.\n",
    "\n",
    "`pip install feedparser`"
   ]
  },
  {
   "cell_type": "code",
   "execution_count": 39,
   "metadata": {
    "collapsed": false
   },
   "outputs": [],
   "source": [
    "import feedparser\n",
    "\n",
    "# Function to fetch the rss feed and return the parsed RSS\n",
    "def parseRSS( rss_url ):\n",
    "    return feedparser.parse( rss_url ) \n",
    "    \n",
    "# Function grabs the rss feed headlines (titles) and returns them as a list\n",
    "def getHeadlines( rss_url ):\n",
    "    headlines = []\n",
    "    \n",
    "    feed = parseRSS( rss_url )\n",
    "    for newsitem in feed['items']:\n",
    "        headlines.append(newsitem['title'])\n",
    "    \n",
    "    return headlines"
   ]
  },
  {
   "cell_type": "code",
   "execution_count": 46,
   "metadata": {
    "collapsed": false,
    "scrolled": false
   },
   "outputs": [
    {
     "name": "stdout",
     "output_type": "stream",
     "text": [
      "France bombs Islamic State HQ, hunts attacker who got away\n",
      "Clinton campaign defends debate 9/11 remarks\n",
      "Donald Trump: ‘O’Malley is a clown’; ‘Hillary is owned by Wall Street’\n",
      "College student from California studying abroad killed in Paris attacks\n",
      "About 1,500 Mormons resign from church in protest of same-sex policy\n",
      "Pentagon says five Guantanamo detainees transferred to United Arab Emirates\n",
      "Paris attacks: Video shows firefight outside Bataclan\n",
      "Paris attacks show U.S. surveillance of Islamic State may be ‘going dark’\n",
      "Belgian connection: At least 3 held in Brussels over Paris attacks\n",
      "Clinton wobbled on foreign policy in debate\n",
      "Clinton cites 9/11 in defending Wall Street donations\n",
      "Sanders scores applause for Eisenhower quip\n",
      "Sanders campaign claims victory in CBS dispute\n",
      "Paris attacks may lead to US military anti-IS escalation\n",
      "Sanders aide pushes back against CBS switch to foreign policy focus for debate\n",
      "Five questions about Paris for Clinton, Sanders, and O’Malley\n",
      "France Strikes ISIS Targets in Syria in Retaliation for Attacks - New York Times\n",
      "Clinton's debate performance leaves trail of fodder for political adversaries - Washington Post\n",
      "Parisians united: What the attacks mean to us - CNN\n",
      "In wake of attacks, presidential contenders focus on Syrian refugees - Miami Herald\n",
      "The Belgian neighborhood indelibly linked to jihad - Washington Post\n",
      "Americans pay respects to Paris terror victims - USA TODAY\n",
      "Pentagon transfers 5 Yemenis being held at Guantanamo Bay to UAE - Washington Post\n",
      "Paris unites in defiant solidarity, then scatters in panic - Washington Post\n",
      "Paris terror attack: Names of victims start to emerge - CNN\n",
      "Patriots still undefeated after late field goal - NFL.com\n"
     ]
    }
   ],
   "source": [
    "# A list to hold all headlines\n",
    "allheadlines = []\n",
    "\n",
    "# List of RSS feeds that we will fetch and combine\n",
    "newsurls = {\n",
    "    'apnews':           'http://hosted2.ap.org/atom/APDEFAULT/3d281c11a76b4ad082fe88aa0db04909',\n",
    "    'googlenews':       'http://news.google.com/?output=rss',\n",
    "    'yahoonews':        'http://news.yahoo.com/rss/'\n",
    "}\n",
    "\n",
    "# Iterate over the feed urls\n",
    "for key,url in newsurls.items():\n",
    "    # Call getHeadlines() and combine the returned headlines with allheadlines\n",
    "    allheadlines.extend( getHeadlines( url ) )\n",
    "\n",
    "\n",
    "# Iterate over the allheadlines list and print each headline\n",
    "for hl in allheadlines:\n",
    "    print(hl)"
   ]
  },
  {
   "cell_type": "markdown",
   "metadata": {},
   "source": [
    "I hope you find this python example useful and educational.  You are free to use the above code how you see fit.  I do however suggest that you implement some type of rss feed caching as some services may block your ip for excessive requests.\n",
    "\n",
    "More Python Tutorials - http://jcutrer.com/howto/dev/python/\n",
    "\n",
    "Question, Comments, Suggestions - http://jcutrer.com/howto/dev/python/python-tutorial-howto-parse-rss-headlines\n",
    "    \n",
    " "
   ]
  }
 ],
 "metadata": {
  "kernelspec": {
   "display_name": "Python 3",
   "language": "python",
   "name": "python3"
  },
  "language_info": {
   "codemirror_mode": {
    "name": "ipython",
    "version": 3
   },
   "file_extension": ".py",
   "mimetype": "text/x-python",
   "name": "python",
   "nbconvert_exporter": "python",
   "pygments_lexer": "ipython3",
   "version": "3.5.0"
  }
 },
 "nbformat": 4,
 "nbformat_minor": 0
}
