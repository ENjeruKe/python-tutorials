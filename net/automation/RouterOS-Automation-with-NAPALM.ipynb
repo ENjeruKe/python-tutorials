{
 "cells": [
  {
   "cell_type": "markdown",
   "metadata": {},
   "source": [
    "# MikroTik RouterOS Automation with NAPALM (python module)\n",
    "\n",
    "In this tutorial, we will explore using the NAPALM python module to query data from a MikroTik Router.\n",
    "\n",
    "Before we begin, you are expected to have python3 and pip installed as well as access to a MikroTik router running RouterOS.  NAPALM will attempt to connect to the router on the default API port of 8728.  You will need to enable the API service which is found in `IP | Services` using winbox\n",
    "\n",
    "At the time of writing this article, the RouterOS NAPALM driver does not support configuration management for MikroTik routers.  For now, we will look at what information can be read from the router.\n",
    "\n"
   ]
  },
  {
   "cell_type": "markdown",
   "metadata": {},
   "source": [
    "### Here are the functions that NAPALM-ROS currently supports\n",
    "\n",
    "> According to the [napalm-ros github page](https://github.com/napalm-automation-community/napalm-ros)\n",
    "\n",
    "* `get_arp_table`\n",
    "* `get_interfaces_counters`\n",
    "* `get_environment`\n",
    "* `get_facts`\n",
    "* `get_interfaces`\n",
    "* `get_interfaces_ip`\n",
    "* `get_ntp_servers`\n",
    "* `get_snmp_information`\n",
    "* `get_users`\n",
    "* `get_ipv6_neighbors_table`\n",
    "* `is_alive`\n",
    "* `ping`"
   ]
  },
  {
   "cell_type": "markdown",
   "metadata": {},
   "source": [
    "### Create a new pipenv virtualenv and install NAPALM and the RouterOS driver\n",
    "\n",
    "```shell\n",
    "pipenv --python 3.6\n",
    "pipenv install napalm\n",
    "pipenv install napalm-ros\n",
    "``` \n",
    "\n",
    "### ... or Globally Install NAPALM and the RouterOS driver using pip\n",
    "\n",
    "If you have not idea what pipenv is, checkout my [pipenv tutorial](https://jcutrer.com/howto/dev/python/pipenv-pipfile) or alternatively you can install `napalm` & `napalm-ros` globally with `pip`.\n",
    "\n",
    "```shell\n",
    "pip install napalm\n",
    "pip install napalm-ros\n",
    "```\n"
   ]
  },
  {
   "cell_type": "markdown",
   "metadata": {},
   "source": [
    "### Import NAPALM and the RouterOS driver"
   ]
  },
  {
   "cell_type": "code",
   "execution_count": 215,
   "metadata": {},
   "outputs": [],
   "source": [
    "import napalm\n",
    "from napalm_ros import ros"
   ]
  },
  {
   "cell_type": "markdown",
   "metadata": {},
   "source": [
    "### Provide your MikroTik Router's IP and credentials"
   ]
  },
  {
   "cell_type": "code",
   "execution_count": 216,
   "metadata": {},
   "outputs": [],
   "source": [
    "router_ip = '192.168.1.1'\n",
    "router_port = 8728 # Use 8729 for api-ssl\n",
    "router_user = 'admin'\n",
    "router_pass = '<your-router-password>'"
   ]
  },
  {
   "cell_type": "markdown",
   "metadata": {},
   "source": [
    "### Configure the RouterOS driver then initialize and connect to the router"
   ]
  },
  {
   "cell_type": "code",
   "execution_count": 217,
   "metadata": {},
   "outputs": [
    {
     "name": "stdout",
     "output_type": "stream",
     "text": [
      "Connecting to 192.168.1.1 on port 8728 as admin\n",
      "Opening ...\n"
     ]
    }
   ],
   "source": [
    "# Use the RouterOS (ros) network driver to connect to the device:\n",
    "driver = napalm.get_network_driver('ros')\n",
    "\n",
    "\n",
    "print('Connecting to', router_ip, \"on port\", router_port, \"as\", router_user)\n",
    "\n",
    "device = driver(hostname=router_ip, username=router_user,\n",
    "                    password=router_pass, optional_args={'port': router_port})\n",
    "\n",
    "print('Opening ...')\n",
    "device.open()"
   ]
  },
  {
   "cell_type": "markdown",
   "metadata": {},
   "source": [
    "### List available methods of the RouterOS NAPALM driver"
   ]
  },
  {
   "cell_type": "code",
   "execution_count": 218,
   "metadata": {},
   "outputs": [
    {
     "name": "stdout",
     "output_type": "stream",
     "text": [
      "device.api()\n",
      "device.cli()\n",
      "device.close()\n",
      "device.commit_config()\n",
      "device.compare_config()\n",
      "device.compliance_report()\n",
      "device.connection_tests()\n",
      "device.discard_config()\n",
      "device.get_arp_table()\n",
      "device.get_bgp_config()\n",
      "device.get_bgp_neighbors()\n",
      "device.get_bgp_neighbors_detail()\n",
      "device.get_config()\n",
      "device.get_environment()\n",
      "device.get_facts()\n",
      "device.get_firewall_policies()\n",
      "device.get_interfaces()\n",
      "device.get_interfaces_counters()\n",
      "device.get_interfaces_ip()\n",
      "device.get_ipv6_neighbors_table()\n",
      "device.get_lldp_neighbors()\n",
      "device.get_lldp_neighbors_detail()\n",
      "device.get_mac_address_table()\n",
      "device.get_network_instances()\n",
      "device.get_ntp_peers()\n",
      "device.get_ntp_servers()\n",
      "device.get_ntp_stats()\n",
      "device.get_optics()\n",
      "device.get_probes_config()\n",
      "device.get_probes_results()\n",
      "device.get_route_to()\n",
      "device.get_snmp_information()\n",
      "device.get_users()\n",
      "device.is_alive()\n",
      "device.load_merge_candidate()\n",
      "device.load_replace_candidate()\n",
      "device.load_template()\n",
      "device.open()\n",
      "device.ping()\n",
      "device.post_connection_tests()\n",
      "device.pre_connection_tests()\n",
      "device.rollback()\n",
      "device.traceroute()\n"
     ]
    }
   ],
   "source": [
    "method_list = [func for func in dir(device) if callable(getattr(device, func)) and not func.startswith(\"_\")]\n",
    "\n",
    "for method in method_list:\n",
    "    print(f\"device.{method}()\")"
   ]
  },
  {
   "cell_type": "markdown",
   "metadata": {},
   "source": [
    "As previously mentioned, some of these method such as `.get_config()` are not implemented (yet)."
   ]
  },
  {
   "cell_type": "markdown",
   "metadata": {},
   "source": [
    "### To begin, let's see if we are connected to the router?"
   ]
  },
  {
   "cell_type": "code",
   "execution_count": 219,
   "metadata": {},
   "outputs": [
    {
     "name": "stdout",
     "output_type": "stream",
     "text": [
      "{'is_alive': True}\n"
     ]
    }
   ],
   "source": [
    "print(device.is_alive())"
   ]
  },
  {
   "cell_type": "markdown",
   "metadata": {},
   "source": [
    "### Ping from the router"
   ]
  },
  {
   "cell_type": "markdown",
   "metadata": {},
   "source": [
    "To be clear, the `ping()` function performs an icmp **ping from the router** to some destination IP, not from your computer to the router."
   ]
  },
  {
   "cell_type": "code",
   "execution_count": 220,
   "metadata": {},
   "outputs": [
    {
     "name": "stdout",
     "output_type": "stream",
     "text": [
      "{'success': {'probes_sent': 5, 'packet_loss': 0, 'rtt_min': 50.0, 'rtt_max': 69.0, 'rtt_avg': 54.0, 'rtt_stddev': -1.0, 'results': [{'ip_address': '8.8.8.8', 'rtt': 69.0}, {'ip_address': '8.8.8.8', 'rtt': 51.0}, {'ip_address': '8.8.8.8', 'rtt': 50.0}, {'ip_address': '8.8.8.8', 'rtt': 50.0}, {'ip_address': '8.8.8.8', 'rtt': 51.0}]}}\n"
     ]
    }
   ],
   "source": [
    "print(device.ping('8.8.8.8'))"
   ]
  },
  {
   "cell_type": "markdown",
   "metadata": {},
   "source": [
    "A more advanced ping example with additional arguments"
   ]
  },
  {
   "cell_type": "code",
   "execution_count": 221,
   "metadata": {},
   "outputs": [
    {
     "name": "stdout",
     "output_type": "stream",
     "text": [
      "{'success': {'probes_sent': 3, 'packet_loss': 0, 'rtt_min': 50.0, 'rtt_max': 52.0, 'rtt_avg': 51.0, 'rtt_stddev': -1.0, 'results': [{'ip_address': '8.8.8.8', 'rtt': 52.0}, {'ip_address': '8.8.8.8', 'rtt': 51.0}, {'ip_address': '8.8.8.8', 'rtt': 50.0}]}}\n"
     ]
    }
   ],
   "source": [
    "print(device.ping(destination='8.8.8.8', source='192.168.1.1', ttl=255, timeout=1000, size=64, count=3))"
   ]
  },
  {
   "cell_type": "markdown",
   "metadata": {},
   "source": [
    "### Get SNMP Configuration"
   ]
  },
  {
   "cell_type": "code",
   "execution_count": 222,
   "metadata": {},
   "outputs": [
    {
     "name": "stdout",
     "output_type": "stream",
     "text": [
      "{'chassis_id': '', 'community': {'public': {'acl': '0.0.0.0/0', 'mode': 'ro'}}, 'contact': '', 'location': ''}\n"
     ]
    }
   ],
   "source": [
    "print(device.get_snmp_information())"
   ]
  },
  {
   "cell_type": "markdown",
   "metadata": {},
   "source": [
    "### Dump the Router's Facts"
   ]
  },
  {
   "cell_type": "code",
   "execution_count": 150,
   "metadata": {},
   "outputs": [
    {
     "name": "stdout",
     "output_type": "stream",
     "text": [
      "{'uptime': 121823, 'vendor': 'MikroTik', 'model': 'RB951G-2HnD', 'hostname': 'R1', 'fqdn': '', 'os_version': '6.41.1 (stable)', 'serial_number': '3XXE021XXXXX', 'interface_list': ['bridge', 'ether1', 'ether2', 'ether3', 'ether4', 'ether5', 'wlan1', 'wlan2']}\n"
     ]
    }
   ],
   "source": [
    "print(device.get_facts())"
   ]
  },
  {
   "cell_type": "markdown",
   "metadata": {},
   "source": [
    "### Iterate over the Router Facts and print them"
   ]
  },
  {
   "cell_type": "code",
   "execution_count": 212,
   "metadata": {},
   "outputs": [
    {
     "name": "stdout",
     "output_type": "stream",
     "text": [
      "Facts about 192.168.1.1\n",
      "uptime: 124775\n",
      "vendor: MikroTik\n",
      "model: RB951G-2HnD\n",
      "hostname: R1\n",
      "fqdn: \n",
      "os_version: 6.41.1 (stable)\n",
      "serial_number: 3XXE021XXXXX\n",
      "interface_list: ['bridge', 'ether1', 'ether2', 'ether3', 'ether4', 'ether5', 'wlan1', 'wlan2']\n"
     ]
    }
   ],
   "source": [
    "print(\"Facts about\", router_ip)\n",
    "\n",
    "for key, value in device.get_facts().items():\n",
    "    print( f\"{key}: {value}\" )"
   ]
  },
  {
   "cell_type": "markdown",
   "metadata": {},
   "source": [
    "### Iterate over the router facts's interface list"
   ]
  },
  {
   "cell_type": "code",
   "execution_count": 152,
   "metadata": {},
   "outputs": [
    {
     "name": "stdout",
     "output_type": "stream",
     "text": [
      "List of interfaces on this router\n",
      "bridge\n",
      "ether1\n",
      "ether2\n",
      "ether3\n",
      "ether4\n",
      "ether5\n",
      "wlan1\n",
      "wlan2\n"
     ]
    }
   ],
   "source": [
    "print(\"List of interfaces on this router\")\n",
    "\n",
    "for interf in device.get_facts()['interface_list']:\n",
    "    print( interf )"
   ]
  },
  {
   "cell_type": "markdown",
   "metadata": {},
   "source": [
    "### Query the router's interface counter statistics"
   ]
  },
  {
   "cell_type": "code",
   "execution_count": 192,
   "metadata": {},
   "outputs": [],
   "source": [
    "iface_stats = device.get_interfaces_counters()"
   ]
  },
  {
   "cell_type": "markdown",
   "metadata": {},
   "source": [
    "### Dump the Interfaces Stats"
   ]
  },
  {
   "cell_type": "code",
   "execution_count": 193,
   "metadata": {},
   "outputs": [
    {
     "data": {
      "text/plain": [
       "{'bridge': defaultdict(int,\n",
       "             {'rx_broadcast_packets': 0,\n",
       "              'rx_discards': 0,\n",
       "              'rx_errors': 0,\n",
       "              'rx_multicast_packets': 0,\n",
       "              'rx_octets': 1250539661,\n",
       "              'rx_unicast_packets': 6170632,\n",
       "              'tx_broadcast_packets': 0,\n",
       "              'tx_discards': 0,\n",
       "              'tx_errors': 0,\n",
       "              'tx_multicast_packets': 0,\n",
       "              'tx_octets': 19929132599,\n",
       "              'tx_unicast_packets': 14415771}),\n",
       " 'ether1': defaultdict(int,\n",
       "             {'rx_broadcast_packets': 0,\n",
       "              'rx_discards': 0,\n",
       "              'rx_errors': 0,\n",
       "              'rx_multicast_packets': 0,\n",
       "              'rx_octets': 19983333109,\n",
       "              'rx_unicast_packets': 14369741,\n",
       "              'tx_broadcast_packets': 0,\n",
       "              'tx_discards': 0,\n",
       "              'tx_errors': 0,\n",
       "              'tx_multicast_packets': 0,\n",
       "              'tx_octets': 1252233599,\n",
       "              'tx_unicast_packets': 6028405}),\n",
       " 'ether2': defaultdict(int,\n",
       "             {'rx_broadcast_packets': 0,\n",
       "              'rx_discards': 0,\n",
       "              'rx_errors': 0,\n",
       "              'rx_multicast_packets': 0,\n",
       "              'rx_octets': 104970493,\n",
       "              'rx_unicast_packets': 155997,\n",
       "              'tx_broadcast_packets': 0,\n",
       "              'tx_discards': 0,\n",
       "              'tx_errors': 0,\n",
       "              'tx_multicast_packets': 0,\n",
       "              'tx_octets': 35736133,\n",
       "              'tx_unicast_packets': 270735}),\n",
       " 'ether3': defaultdict(int,\n",
       "             {'rx_broadcast_packets': 0,\n",
       "              'rx_discards': 0,\n",
       "              'rx_errors': 0,\n",
       "              'rx_multicast_packets': 0,\n",
       "              'rx_octets': 0,\n",
       "              'rx_unicast_packets': 0,\n",
       "              'tx_broadcast_packets': 0,\n",
       "              'tx_discards': 0,\n",
       "              'tx_errors': 0,\n",
       "              'tx_multicast_packets': 0,\n",
       "              'tx_octets': 0,\n",
       "              'tx_unicast_packets': 0}),\n",
       " 'ether4': defaultdict(int,\n",
       "             {'rx_broadcast_packets': 0,\n",
       "              'rx_discards': 0,\n",
       "              'rx_errors': 0,\n",
       "              'rx_multicast_packets': 0,\n",
       "              'rx_octets': 7490684,\n",
       "              'rx_unicast_packets': 17948,\n",
       "              'tx_broadcast_packets': 0,\n",
       "              'tx_discards': 0,\n",
       "              'tx_errors': 0,\n",
       "              'tx_multicast_packets': 0,\n",
       "              'tx_octets': 22773137,\n",
       "              'tx_unicast_packets': 160526}),\n",
       " 'ether5': defaultdict(int,\n",
       "             {'rx_broadcast_packets': 0,\n",
       "              'rx_discards': 0,\n",
       "              'rx_errors': 0,\n",
       "              'rx_multicast_packets': 0,\n",
       "              'rx_octets': 635334841,\n",
       "              'rx_unicast_packets': 2018650,\n",
       "              'tx_broadcast_packets': 0,\n",
       "              'tx_discards': 0,\n",
       "              'tx_errors': 0,\n",
       "              'tx_multicast_packets': 0,\n",
       "              'tx_octets': 5036923454,\n",
       "              'tx_unicast_packets': 4069320}),\n",
       " 'wlan1': defaultdict(int,\n",
       "             {'rx_broadcast_packets': 0,\n",
       "              'rx_discards': 0,\n",
       "              'rx_errors': 0,\n",
       "              'rx_multicast_packets': 0,\n",
       "              'rx_octets': 0,\n",
       "              'rx_unicast_packets': 0,\n",
       "              'tx_broadcast_packets': 0,\n",
       "              'tx_discards': 0,\n",
       "              'tx_errors': 0,\n",
       "              'tx_multicast_packets': 0,\n",
       "              'tx_octets': 0,\n",
       "              'tx_unicast_packets': 0}),\n",
       " 'wlan2': defaultdict(int,\n",
       "             {'rx_broadcast_packets': 0,\n",
       "              'rx_discards': 0,\n",
       "              'rx_errors': 0,\n",
       "              'rx_multicast_packets': 0,\n",
       "              'rx_octets': 535541903,\n",
       "              'rx_unicast_packets': 4070323,\n",
       "              'tx_broadcast_packets': 0,\n",
       "              'tx_discards': 0,\n",
       "              'tx_errors': 0,\n",
       "              'tx_multicast_packets': 0,\n",
       "              'tx_octets': 14832924157,\n",
       "              'tx_unicast_packets': 10469485})}"
      ]
     },
     "execution_count": 193,
     "metadata": {},
     "output_type": "execute_result"
    }
   ],
   "source": [
    "iface_stats"
   ]
  },
  {
   "cell_type": "markdown",
   "metadata": {},
   "source": [
    "#### Dump a single interface's stats"
   ]
  },
  {
   "cell_type": "code",
   "execution_count": 224,
   "metadata": {},
   "outputs": [
    {
     "name": "stdout",
     "output_type": "stream",
     "text": [
      "defaultdict(<class 'int'>, {'tx_errors': 0, 'rx_errors': 0, 'tx_discards': 0, 'rx_discards': 0, 'tx_octets': 1252233599, 'rx_octets': 19983333109, 'tx_unicast_packets': 6028405, 'rx_unicast_packets': 14369741, 'tx_multicast_packets': 0, 'rx_multicast_packets': 0, 'tx_broadcast_packets': 0, 'rx_broadcast_packets': 0})\n"
     ]
    }
   ],
   "source": [
    "print( iface_stats['ether1'])"
   ]
  },
  {
   "cell_type": "markdown",
   "metadata": {},
   "source": [
    "#### Iterate over an interface's stats and print them"
   ]
  },
  {
   "cell_type": "code",
   "execution_count": 228,
   "metadata": {},
   "outputs": [
    {
     "name": "stdout",
     "output_type": "stream",
     "text": [
      "ether1 Interface Stats\n",
      "======================\n",
      "tx_errors: 0\n",
      "rx_errors: 0\n",
      "tx_discards: 0\n",
      "rx_discards: 0\n",
      "tx_octets: 1252233599\n",
      "rx_octets: 19983333109\n",
      "tx_unicast_packets: 6028405\n",
      "rx_unicast_packets: 14369741\n",
      "tx_multicast_packets: 0\n",
      "rx_multicast_packets: 0\n",
      "tx_broadcast_packets: 0\n",
      "rx_broadcast_packets: 0\n"
     ]
    }
   ],
   "source": [
    "print( \"ether1 Interface Stats\")\n",
    "print(\"======================\")\n",
    "\n",
    "for stat in iface_stats['ether1']:\n",
    "    print(f\"{stat}: {iface_stats['ether1'][stat]}\")"
   ]
  },
  {
   "cell_type": "markdown",
   "metadata": {},
   "source": [
    "#### List users"
   ]
  },
  {
   "cell_type": "code",
   "execution_count": 197,
   "metadata": {},
   "outputs": [
    {
     "name": "stdout",
     "output_type": "stream",
     "text": [
      "{'admin': {'level': 15, 'password': '', 'sshkeys': []}}\n"
     ]
    }
   ],
   "source": [
    "users = device.get_users()\n",
    "\n",
    "print(users)"
   ]
  },
  {
   "cell_type": "markdown",
   "metadata": {},
   "source": [
    "#### Get all ARP Entries"
   ]
  },
  {
   "cell_type": "code",
   "execution_count": 158,
   "metadata": {},
   "outputs": [
    {
     "name": "stdout",
     "output_type": "stream",
     "text": [
      "{'interface': 'bridge', 'mac': 'XX:00:0B:XX:XX:XX', 'ip': '192.168.1.3', 'age': -1.0}\n",
      "{'interface': 'bridge', 'mac': 'XX:9F:C2:XX:XX:XX', 'ip': '192.168.1.4', 'age': -1.0}\n",
      "{'interface': 'bridge', 'mac': 'XX:7C:9C:XX:XX:XX', 'ip': '192.168.1.5', 'age': -1.0}\n"
     ]
    }
   ],
   "source": [
    "arptable = device.get_arp_table()\n",
    "\n",
    "for entry in arptable:\n",
    "    print(entry)"
   ]
  },
  {
   "cell_type": "markdown",
   "metadata": {},
   "source": [
    "#### Get Interface Information"
   ]
  },
  {
   "cell_type": "code",
   "execution_count": 229,
   "metadata": {},
   "outputs": [
    {
     "name": "stdout",
     "output_type": "stream",
     "text": [
      "Print a list of interfaces with w/comments & status\n",
      ";;; WAN\n",
      "ether1 [enabled=True, up=True]\n",
      "\n",
      ";;; Uplink to DVR\n",
      "ether2 [enabled=True, up=True]\n",
      "\n",
      ";;; \n",
      "ether3 [enabled=False, up=False]\n",
      "\n",
      ";;; uplink to NAS\n",
      "ether4 [enabled=True, up=True]\n",
      "\n",
      ";;; UniFi AP\n",
      "ether5 [enabled=True, up=True]\n",
      "\n",
      ";;; \n",
      "wlan1 [enabled=True, up=False]\n",
      "\n",
      ";;; \n",
      "wlan2 [enabled=True, up=True]\n",
      "\n",
      ";;; defconf\n",
      "bridge [enabled=True, up=True]\n",
      "\n"
     ]
    }
   ],
   "source": [
    "ifaces = device.get_interfaces()\n",
    "\n",
    "print(\"Print a list of interfaces with w/comments & status\")\n",
    "\n",
    "for iface,data in ifaces.items():\n",
    "    print(f\";;; {data['description']}\")\n",
    "    print(f\"{iface} [enabled={data['is_enabled']}, up={data['is_up']}]\")\n",
    "    print()"
   ]
  },
  {
   "cell_type": "markdown",
   "metadata": {},
   "source": [
    "#### Gracefully disconnect from the Router"
   ]
  },
  {
   "cell_type": "code",
   "execution_count": 160,
   "metadata": {},
   "outputs": [],
   "source": [
    "device.close()"
   ]
  },
  {
   "cell_type": "markdown",
   "metadata": {},
   "source": [
    "I hope you enjoyed this **python tutorial** about **NAPALM** and **RouterOS Automation**.  Checkout my other [MikroTik tutorials](https://jcutrer.com/howto/networking/mikrotik/) and [Python tutorials](https://jcutrer.com/howto/dev/python/)"
   ]
  },
  {
   "cell_type": "markdown",
   "metadata": {},
   "source": [
    "This jupyter notbook was created by [JCutrer](https://jcutrer.com) and the contained code is provided under a [MIT License](). If you use or reference this code please consider linking back to the companion [python tutorial](https://jcutrer.com/howto/networking/mikrotik/napalm-routeros-automation) "
   ]
  }
 ],
 "metadata": {
  "kernelspec": {
   "display_name": "Python 3",
   "language": "python",
   "name": "python3"
  },
  "language_info": {
   "codemirror_mode": {
    "name": "ipython",
    "version": 3
   },
   "file_extension": ".py",
   "mimetype": "text/x-python",
   "name": "python",
   "nbconvert_exporter": "python",
   "pygments_lexer": "ipython3",
   "version": "3.6.4"
  }
 },
 "nbformat": 4,
 "nbformat_minor": 2
}
