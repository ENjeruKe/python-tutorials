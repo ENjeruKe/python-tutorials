{
 "cells": [
  {
   "cell_type": "markdown",
   "metadata": {},
   "source": [
    "This notebook will teach you how to query snmp data from a Dell PowerEdge server.  Once OpenManage software is installed on a Dell server, a ton of information is made available via SNMP including...\n",
    "\n",
    "* Chassis Temperature\n",
    "* Fan(s) Speed\n",
    "* Chassis Intrusion Switch\n",
    "* Hard Drive Health\n",
    "* Power Supply Status, Voltages, and Consumption\n",
    "\n",
    "\n",
    "### Prerequisites\n",
    "\n",
    "1.) Install the pysnmp package\n",
    "\n",
    "```\n",
    "C:\\> pip install --upgrade pysnmp\n",
    "Collecting pysnmp\n",
    "...\n",
    "Installing collected packages: pysmi, pysnmp\n",
    "Successfully installed pysmi-0.0.6 pysnmp-4.3.1\n",
    "```\n",
    "\n",
    "2.) A Dell PowerEdge Server running Windows Server 2008 or newer with Dell Open Manage Installed.\n",
    "\n",
    "3.) You will also need to install and configure SNMP support on the target Windows Server machine.\n",
    "\n",
    "\n",
    "\n",
    "\n"
   ]
  },
  {
   "cell_type": "markdown",
   "metadata": {},
   "source": [
    "If you search for pysnmp example code you will find two type,  Synchronous and Asynchronous.  The following code is an example of a synchronous SNMP Get found in the old pysnmp manual\n",
    "\n",
    "http://pysnmp.sourceforge.net/examples/current/v3arch/oneliner/manager/cmdgen/get-v2c.html"
   ]
  },
  {
   "cell_type": "code",
   "execution_count": 3,
   "metadata": {
    "collapsed": false,
    "scrolled": true
   },
   "outputs": [
    {
     "name": "stdout",
     "output_type": "stream",
     "text": [
      "SNMPv2-SMI::enterprises.674.10892.1.300.10.1.8.1 = b'Dell Inc.'\n",
      "SNMPv2-SMI::enterprises.674.10892.1.300.10.1.9.1 = b'PowerEdge R720'\n"
     ]
    }
   ],
   "source": [
    "from pysnmp.entity.rfc3413.oneliner import cmdgen\n",
    "import time\n",
    "\n",
    "SNMP_HOST = '192.168.1.60'\n",
    "SNMP_PORT = 161\n",
    "SNMP_COMMUNITY = 'public'\n",
    "\n",
    "\n",
    "cmdGen = cmdgen.CommandGenerator()\n",
    "\n",
    "errorIndication, errorStatus, errorIndex, varBinds = cmdGen.getCmd(\n",
    "    cmdgen.CommunityData(SNMP_COMMUNITY),\n",
    "    cmdgen.UdpTransportTarget((SNMP_HOST, SNMP_PORT)),\n",
    "    '1.3.6.1.4.1.674.10892.1.300.10.1.8.1',\n",
    "    '1.3.6.1.4.1.674.10892.1.300.10.1.9.1'\n",
    ")\n",
    "\n",
    "# Check for errors and print out results\n",
    "if errorIndication:\n",
    "    print(errorIndication)\n",
    "else:\n",
    "    if errorStatus:\n",
    "        print('%s at %s' % (\n",
    "            errorStatus.prettyPrint(),\n",
    "            errorIndex and varBinds[int(errorIndex)-1] or '?'\n",
    "            )\n",
    "        )\n",
    "    else:\n",
    "        for name, val in varBinds:\n",
    "            print('%s = %s' % (name.prettyPrint(), val.prettyPrint()))\n",
    "            "
   ]
  },
  {
   "cell_type": "markdown",
   "metadata": {},
   "source": [
    "Throughout the rest of this notebook we will stick with the Synchronous type code. We are only fetching a few data points and there is no need to add complexity of performing Asynchronous operations.\n",
    "\n",
    "Next, we will create a snmpget() function that will encapsulate the above code and make it reusable.\n"
   ]
  },
  {
   "cell_type": "code",
   "execution_count": 4,
   "metadata": {
    "collapsed": true
   },
   "outputs": [],
   "source": [
    "def snmpget(oid):\n",
    "    \n",
    "    from pysnmp.entity.rfc3413.oneliner import cmdgen\n",
    "    \n",
    "    global SNMP_HOST\n",
    "    global SNMP_PORT\n",
    "    global SNMP_COMMUNITY\n",
    "    \n",
    "    cmdGen = cmdgen.CommandGenerator()\n",
    "\n",
    "    errorIndication, errorStatus, errorIndex, varBinds = cmdGen.getCmd(\n",
    "        cmdgen.CommunityData(SNMP_COMMUNITY),\n",
    "        cmdgen.UdpTransportTarget((SNMP_HOST, SNMP_PORT)),\n",
    "        oid\n",
    "    )\n",
    "    \n",
    "    # Check for errors and print out results\n",
    "    if errorIndication:\n",
    "        print(errorIndication)\n",
    "    else:\n",
    "        if errorStatus:\n",
    "            print('%s at %s' % (\n",
    "                errorStatus.prettyPrint(),\n",
    "                errorIndex and varBinds[int(errorIndex)-1] or '?'\n",
    "                )\n",
    "            )\n",
    "        else:\n",
    "            for name, val in varBinds:\n",
    "                #print('%s = %s' % (name.prettyPrint(), val.prettyPrint()))\n",
    "                return val\n",
    " "
   ]
  },
  {
   "cell_type": "markdown",
   "metadata": {},
   "source": [
    "With everything now contained inside the snmpget() function we can call the function for each OID we want to query."
   ]
  },
  {
   "cell_type": "code",
   "execution_count": 5,
   "metadata": {
    "collapsed": false,
    "scrolled": false
   },
   "outputs": [
    {
     "name": "stdout",
     "output_type": "stream",
     "text": [
      "Dell Inc.\n"
     ]
    }
   ],
   "source": [
    "answer = snmpget('1.3.6.1.4.1.674.10892.1.300.10.1.8.1')\n",
    "print(answer)"
   ]
  },
  {
   "cell_type": "markdown",
   "metadata": {},
   "source": [
    "Now that we are getting the data, lets apply some formatting."
   ]
  },
  {
   "cell_type": "code",
   "execution_count": 6,
   "metadata": {
    "collapsed": false
   },
   "outputs": [
    {
     "name": "stdout",
     "output_type": "stream",
     "text": [
      "Make: Dell Inc.\n",
      "Model: PowerEdge R720\n"
     ]
    }
   ],
   "source": [
    "print( 'Make: ' + snmpget('1.3.6.1.4.1.674.10892.1.300.10.1.8.1') )\n",
    "print( 'Model: ' + snmpget('1.3.6.1.4.1.674.10892.1.300.10.1.9.1') )"
   ]
  },
  {
   "cell_type": "markdown",
   "metadata": {},
   "source": [
    "Next, lets fetch some data about the power supply amperage and total watts consumed.  You may get different results if your server does not have redundant(2) power supplies."
   ]
  },
  {
   "cell_type": "code",
   "execution_count": 7,
   "metadata": {
    "collapsed": false
   },
   "outputs": [
    {
     "name": "stdout",
     "output_type": "stream",
     "text": [
      "PS1 Current 1: 16 AMPS\n",
      "PS2 Current 2: 0 AMPS\n",
      "System Board Pwr Consumption: 196 Watts\n"
     ]
    }
   ],
   "source": [
    "print( snmpget('1.3.6.1.4.1.674.10892.1.600.30.1.8.1.1') + ': ' +\n",
    "      str(snmpget('1.3.6.1.4.1.674.10892.1.600.30.1.6.1.1')) + ' AMPS')\n",
    "print( snmpget('1.3.6.1.4.1.674.10892.1.600.30.1.8.1.2') + ': ' +\n",
    "      str(snmpget('1.3.6.1.4.1.674.10892.1.600.30.1.6.1.2')) + ' AMPS')\n",
    "print( snmpget('1.3.6.1.4.1.674.10892.1.600.30.1.8.1.3') + ': ' +\n",
    "      str(snmpget('1.3.6.1.4.1.674.10892.1.600.30.1.6.1.3')) + ' Watts')"
   ]
  },
  {
   "cell_type": "markdown",
   "metadata": {},
   "source": [
    "So far, we have called snmpget() individually to get data.  Lets modify snmpget to accept a list of OIDs and return a list of return values.\n",
    "\n",
    "We will progressivly modify our snmpget() function to accomplish this.  We add two additional arguments to the function oid2, oid3.  While this is not ideal the getCmd() wants each addition oid as an additional command line argument.\n",
    "\n",
    "Lets focus on the return values. Instead of iterating over varBinds we will extract the values and return a simple list or singular value if the list's length is 1."
   ]
  },
  {
   "cell_type": "code",
   "execution_count": 8,
   "metadata": {
    "collapsed": false
   },
   "outputs": [],
   "source": [
    "def snmpget(oid, oid2='', oid3=''):\n",
    "    \n",
    "    from pysnmp.entity.rfc3413.oneliner import cmdgen\n",
    "    \n",
    "    global SNMP_HOST\n",
    "    global SNMP_PORT\n",
    "    global SNMP_COMMUNITY\n",
    "    \n",
    "    cmdGen = cmdgen.CommandGenerator()\n",
    "\n",
    "    errorIndication, errorStatus, errorIndex, varBinds = cmdGen.getCmd(\n",
    "        cmdgen.CommunityData(SNMP_COMMUNITY),\n",
    "        cmdgen.UdpTransportTarget((SNMP_HOST, SNMP_PORT)),\n",
    "        oid,\n",
    "        oid2,\n",
    "        oid3\n",
    "    )\n",
    "    \n",
    "    # Predefine our results list  \n",
    "    results = []\n",
    "    \n",
    "    # Check for errors and print out results\n",
    "    if errorIndication:\n",
    "        print(errorIndication)\n",
    "    else:\n",
    "        if errorStatus:\n",
    "            print('%s at %s' % (\n",
    "                errorStatus.prettyPrint(),\n",
    "                errorIndex and varBinds[int(errorIndex)-1] or '?'\n",
    "                )\n",
    "            )\n",
    "        else:\n",
    "            for name, val in varBinds:\n",
    "                results.append( val )\n",
    "                \n",
    "        if len(results) == 1:\n",
    "            return results[0]\n",
    "        else:\n",
    "            return results\n",
    " "
   ]
  },
  {
   "cell_type": "code",
   "execution_count": 9,
   "metadata": {
    "collapsed": false,
    "scrolled": true
   },
   "outputs": [
    {
     "name": "stdout",
     "output_type": "stream",
     "text": [
      "PS1 Current 1\n",
      "PS2 Current 2\n",
      "System Board Pwr Consumption\n"
     ]
    }
   ],
   "source": [
    "results = snmpget( '1.3.6.1.4.1.674.10892.1.600.30.1.8.1.1', \\\n",
    "                   '1.3.6.1.4.1.674.10892.1.600.30.1.8.1.2', \\\n",
    "                   '1.3.6.1.4.1.674.10892.1.600.30.1.8.1.3' )\n",
    "\n",
    "for ans in results:\n",
    "    print(ans)\n",
    "    "
   ]
  },
  {
   "cell_type": "markdown",
   "metadata": {},
   "source": [
    "The function now returns a list of values but our approach to accepting additional arguments is not very flexible.  As you can see we get an error when we try to request anything other than 3 oids."
   ]
  },
  {
   "cell_type": "code",
   "execution_count": 10,
   "metadata": {
    "collapsed": false
   },
   "outputs": [
    {
     "ename": "IndexError",
     "evalue": "string index out of range",
     "output_type": "error",
     "traceback": [
      "\u001b[1;31m---------------------------------------------------------------------------\u001b[0m",
      "\u001b[1;31mIndexError\u001b[0m                                Traceback (most recent call last)",
      "\u001b[1;32m<ipython-input-10-560e9ab8af4a>\u001b[0m in \u001b[0;36m<module>\u001b[1;34m()\u001b[0m\n\u001b[1;32m----> 1\u001b[1;33m \u001b[0mresults\u001b[0m \u001b[1;33m=\u001b[0m \u001b[0msnmpget\u001b[0m\u001b[1;33m(\u001b[0m \u001b[1;34m'1.3.6.1.4.1.674.10892.1.600.30.1.8.1.1'\u001b[0m\u001b[1;33m,\u001b[0m                    \u001b[1;34m'1.3.6.1.4.1.674.10892.1.600.30.1.8.1.3'\u001b[0m \u001b[1;33m)\u001b[0m\u001b[1;33m\u001b[0m\u001b[0m\n\u001b[0m",
      "\u001b[1;32m<ipython-input-8-3be0cd4c4dad>\u001b[0m in \u001b[0;36msnmpget\u001b[1;34m(oid, oid2, oid3)\u001b[0m\n\u001b[0;32m     14\u001b[0m         \u001b[0moid\u001b[0m\u001b[1;33m,\u001b[0m\u001b[1;33m\u001b[0m\u001b[0m\n\u001b[0;32m     15\u001b[0m         \u001b[0moid2\u001b[0m\u001b[1;33m,\u001b[0m\u001b[1;33m\u001b[0m\u001b[0m\n\u001b[1;32m---> 16\u001b[1;33m         \u001b[0moid3\u001b[0m\u001b[1;33m\u001b[0m\u001b[0m\n\u001b[0m\u001b[0;32m     17\u001b[0m     )\n\u001b[0;32m     18\u001b[0m \u001b[1;33m\u001b[0m\u001b[0m\n",
      "\u001b[1;32mC:\\Anaconda3\\lib\\site-packages\\pysnmp\\entity\\rfc3413\\oneliner\\cmdgen.py\u001b[0m in \u001b[0;36mgetCmd\u001b[1;34m(self, authData, transportTarget, *varNames, **kwargs)\u001b[0m\n\u001b[0;32m    174\u001b[0m                                            kwargs.get('contextName', null)),\n\u001b[0;32m    175\u001b[0m                                \u001b[1;33m*\u001b[0m\u001b[1;33m[\u001b[0m\u001b[1;33m(\u001b[0m\u001b[0mx\u001b[0m\u001b[1;33m,\u001b[0m \u001b[0mself\u001b[0m\u001b[1;33m.\u001b[0m\u001b[0m_null\u001b[0m\u001b[1;33m)\u001b[0m \u001b[1;32mfor\u001b[0m \u001b[0mx\u001b[0m \u001b[1;32min\u001b[0m \u001b[0mvarNames\u001b[0m\u001b[1;33m]\u001b[0m\u001b[1;33m,\u001b[0m\u001b[1;33m\u001b[0m\u001b[0m\n\u001b[1;32m--> 176\u001b[1;33m                                **kwargs):\n\u001b[0m\u001b[0;32m    177\u001b[0m             \u001b[1;32mbreak\u001b[0m\u001b[1;33m\u001b[0m\u001b[0m\n\u001b[0;32m    178\u001b[0m         \u001b[1;32mreturn\u001b[0m \u001b[0merrorIndication\u001b[0m\u001b[1;33m,\u001b[0m \u001b[0merrorStatus\u001b[0m\u001b[1;33m,\u001b[0m \u001b[0merrorIndex\u001b[0m\u001b[1;33m,\u001b[0m \u001b[0mvarBinds\u001b[0m\u001b[1;33m\u001b[0m\u001b[0m\n",
      "\u001b[1;32mC:\\Anaconda3\\lib\\site-packages\\pysnmp\\hlapi\\asyncore\\sync\\cmdgen.py\u001b[0m in \u001b[0;36mgetCmd\u001b[1;34m(snmpEngine, authData, transportTarget, contextData, *varBinds, **options)\u001b[0m\n\u001b[0;32m     92\u001b[0m                           \u001b[0mcontextData\u001b[0m\u001b[1;33m,\u001b[0m \u001b[1;33m*\u001b[0m\u001b[0mvarBinds\u001b[0m\u001b[1;33m,\u001b[0m\u001b[1;33m\u001b[0m\u001b[0m\n\u001b[0;32m     93\u001b[0m                           **dict(cbFun=cbFun, cbCtx=cbCtx,\n\u001b[1;32m---> 94\u001b[1;33m                                  lookupMib=options.get('lookupMib', True)))\n\u001b[0m\u001b[0;32m     95\u001b[0m \u001b[1;33m\u001b[0m\u001b[0m\n\u001b[0;32m     96\u001b[0m             \u001b[0msnmpEngine\u001b[0m\u001b[1;33m.\u001b[0m\u001b[0mtransportDispatcher\u001b[0m\u001b[1;33m.\u001b[0m\u001b[0mrunDispatcher\u001b[0m\u001b[1;33m(\u001b[0m\u001b[1;33m)\u001b[0m\u001b[1;33m\u001b[0m\u001b[0m\n",
      "\u001b[1;32mC:\\Anaconda3\\lib\\site-packages\\pysnmp\\hlapi\\asyncore\\cmdgen.py\u001b[0m in \u001b[0;36mgetCmd\u001b[1;34m(snmpEngine, authData, transportTarget, contextData, *varBinds, **options)\u001b[0m\n\u001b[0;32m    119\u001b[0m         \u001b[0msnmpEngine\u001b[0m\u001b[1;33m,\u001b[0m \u001b[0maddrName\u001b[0m\u001b[1;33m,\u001b[0m \u001b[0mcontextData\u001b[0m\u001b[1;33m.\u001b[0m\u001b[0mcontextEngineId\u001b[0m\u001b[1;33m,\u001b[0m\u001b[1;33m\u001b[0m\u001b[0m\n\u001b[0;32m    120\u001b[0m         \u001b[0mcontextData\u001b[0m\u001b[1;33m.\u001b[0m\u001b[0mcontextName\u001b[0m\u001b[1;33m,\u001b[0m\u001b[1;33m\u001b[0m\u001b[0m\n\u001b[1;32m--> 121\u001b[1;33m         \u001b[0mvbProcessor\u001b[0m\u001b[1;33m.\u001b[0m\u001b[0mmakeVarBinds\u001b[0m\u001b[1;33m(\u001b[0m\u001b[0msnmpEngine\u001b[0m\u001b[1;33m,\u001b[0m \u001b[0mvarBinds\u001b[0m\u001b[1;33m)\u001b[0m\u001b[1;33m,\u001b[0m \u001b[0m__cbFun\u001b[0m\u001b[1;33m,\u001b[0m\u001b[1;33m\u001b[0m\u001b[0m\n\u001b[0m\u001b[0;32m    122\u001b[0m         (options.get('lookupMib', True),\n\u001b[0;32m    123\u001b[0m          options.get('cbFun'), options.get('cbCtx'))\n",
      "\u001b[1;32mC:\\Anaconda3\\lib\\site-packages\\pysnmp\\hlapi\\varbinds.py\u001b[0m in \u001b[0;36mmakeVarBinds\u001b[1;34m(self, snmpEngine, varBinds)\u001b[0m\n\u001b[0;32m     23\u001b[0m             \u001b[1;32melif\u001b[0m \u001b[0misinstance\u001b[0m\u001b[1;33m(\u001b[0m\u001b[0mvarBind\u001b[0m\u001b[1;33m[\u001b[0m\u001b[1;36m0\u001b[0m\u001b[1;33m]\u001b[0m\u001b[1;33m,\u001b[0m \u001b[0mObjectIdentity\u001b[0m\u001b[1;33m)\u001b[0m\u001b[1;33m:\u001b[0m\u001b[1;33m\u001b[0m\u001b[0m\n\u001b[0;32m     24\u001b[0m                 \u001b[0mvarBind\u001b[0m \u001b[1;33m=\u001b[0m \u001b[0mObjectType\u001b[0m\u001b[1;33m(\u001b[0m\u001b[1;33m*\u001b[0m\u001b[0mvarBind\u001b[0m\u001b[1;33m)\u001b[0m\u001b[1;33m\u001b[0m\u001b[0m\n\u001b[1;32m---> 25\u001b[1;33m             \u001b[1;32melif\u001b[0m \u001b[0misinstance\u001b[0m\u001b[1;33m(\u001b[0m\u001b[0mvarBind\u001b[0m\u001b[1;33m[\u001b[0m\u001b[1;36m0\u001b[0m\u001b[1;33m]\u001b[0m\u001b[1;33m[\u001b[0m\u001b[1;36m0\u001b[0m\u001b[1;33m]\u001b[0m\u001b[1;33m,\u001b[0m \u001b[0mtuple\u001b[0m\u001b[1;33m)\u001b[0m\u001b[1;33m:\u001b[0m  \u001b[1;31m# legacy\u001b[0m\u001b[1;33m\u001b[0m\u001b[0m\n\u001b[0m\u001b[0;32m     26\u001b[0m                 \u001b[0mvarBind\u001b[0m \u001b[1;33m=\u001b[0m \u001b[0mObjectType\u001b[0m\u001b[1;33m(\u001b[0m\u001b[0mObjectIdentity\u001b[0m\u001b[1;33m(\u001b[0m\u001b[0mvarBind\u001b[0m\u001b[1;33m[\u001b[0m\u001b[1;36m0\u001b[0m\u001b[1;33m]\u001b[0m\u001b[1;33m[\u001b[0m\u001b[1;36m0\u001b[0m\u001b[1;33m]\u001b[0m\u001b[1;33m[\u001b[0m\u001b[1;36m0\u001b[0m\u001b[1;33m]\u001b[0m\u001b[1;33m,\u001b[0m \u001b[0mvarBind\u001b[0m\u001b[1;33m[\u001b[0m\u001b[1;36m0\u001b[0m\u001b[1;33m]\u001b[0m\u001b[1;33m[\u001b[0m\u001b[1;36m0\u001b[0m\u001b[1;33m]\u001b[0m\u001b[1;33m[\u001b[0m\u001b[1;36m1\u001b[0m\u001b[1;33m]\u001b[0m\u001b[1;33m,\u001b[0m \u001b[1;33m*\u001b[0m\u001b[0mvarBind\u001b[0m\u001b[1;33m[\u001b[0m\u001b[1;36m0\u001b[0m\u001b[1;33m]\u001b[0m\u001b[1;33m[\u001b[0m\u001b[1;36m1\u001b[0m\u001b[1;33m:\u001b[0m\u001b[1;33m]\u001b[0m\u001b[1;33m)\u001b[0m\u001b[1;33m,\u001b[0m \u001b[0mvarBind\u001b[0m\u001b[1;33m[\u001b[0m\u001b[1;36m1\u001b[0m\u001b[1;33m]\u001b[0m\u001b[1;33m)\u001b[0m\u001b[1;33m\u001b[0m\u001b[0m\n\u001b[0;32m     27\u001b[0m             \u001b[1;32melse\u001b[0m\u001b[1;33m:\u001b[0m\u001b[1;33m\u001b[0m\u001b[0m\n",
      "\u001b[1;31mIndexError\u001b[0m: string index out of range"
     ]
    }
   ],
   "source": [
    "results = snmpget( '1.3.6.1.4.1.674.10892.1.600.30.1.8.1.1', \\\n",
    "                   '1.3.6.1.4.1.674.10892.1.600.30.1.8.1.3' )"
   ]
  },
  {
   "cell_type": "markdown",
   "metadata": {},
   "source": [
    "Next, we will modify the function definition to accept a variable number of arguments.\n",
    "\n",
    "The function getCmd() also uses this same technique.  We can pass along these additional OIDs to the getCmd() function but we must prefix the more_oids variable with a asterisk `*`."
   ]
  },
  {
   "cell_type": "code",
   "execution_count": 12,
   "metadata": {
    "collapsed": true
   },
   "outputs": [],
   "source": [
    "def snmpget(oid, *more_oids):\n",
    "    \n",
    "    from pysnmp.entity.rfc3413.oneliner import cmdgen\n",
    "    \n",
    "    global SNMP_HOST\n",
    "    global SNMP_PORT\n",
    "    global SNMP_COMMUNITY\n",
    "    \n",
    "    cmdGen = cmdgen.CommandGenerator()\n",
    "\n",
    "    errorIndication, errorStatus, errorIndex, varBinds = cmdGen.getCmd(\n",
    "        cmdgen.CommunityData(SNMP_COMMUNITY),\n",
    "        cmdgen.UdpTransportTarget((SNMP_HOST, SNMP_PORT)),\n",
    "        oid,\n",
    "        *more_oids\n",
    "    )\n",
    "\n",
    "    # Predefine our results list    \n",
    "    results = []\n",
    "    \n",
    "    # Check for errors and print out results\n",
    "    if errorIndication:\n",
    "        print(errorIndication)\n",
    "    else:\n",
    "        if errorStatus:\n",
    "            print('%s at %s' % (\n",
    "                errorStatus.prettyPrint(),\n",
    "                errorIndex and varBinds[int(errorIndex)-1] or '?'\n",
    "                )\n",
    "            )\n",
    "        else:\n",
    "            for name, val in varBinds:\n",
    "                results.append( val )\n",
    "                \n",
    "        if len(results) == 1:\n",
    "            return results[0]\n",
    "        else:\n",
    "            return results\n",
    " "
   ]
  },
  {
   "cell_type": "markdown",
   "metadata": {},
   "source": [
    "Now when we call snmpget() with any number of oids.\n"
   ]
  },
  {
   "cell_type": "code",
   "execution_count": 14,
   "metadata": {
    "collapsed": false,
    "scrolled": true
   },
   "outputs": [
    {
     "name": "stdout",
     "output_type": "stream",
     "text": [
      "PS1 Current 1\n",
      "PS2 Current 2\n",
      "System Board Pwr Consumption\n",
      "16\n",
      "0\n",
      "196\n",
      "----------------\n",
      "PS1 Current 1\n"
     ]
    }
   ],
   "source": [
    "# get 6 oid values in one call.\n",
    "results = snmpget( '1.3.6.1.4.1.674.10892.1.600.30.1.8.1.1', \\\n",
    "                   '1.3.6.1.4.1.674.10892.1.600.30.1.8.1.2', \\\n",
    "                   '1.3.6.1.4.1.674.10892.1.600.30.1.8.1.3', \\\n",
    "                   '1.3.6.1.4.1.674.10892.1.600.30.1.6.1.1', \\\n",
    "                   '1.3.6.1.4.1.674.10892.1.600.30.1.6.1.2', \\\n",
    "                   '1.3.6.1.4.1.674.10892.1.600.30.1.6.1.3', \\\n",
    "                 )\n",
    "\n",
    "for ans in results:\n",
    "    print(ans)\n",
    "    \n",
    "print('----------------')\n",
    "\n",
    "# get 1 oid value\n",
    "result = snmpget( '1.3.6.1.4.1.674.10892.1.600.30.1.8.1.1' )\n",
    "\n",
    "print(result)"
   ]
  },
  {
   "cell_type": "markdown",
   "metadata": {},
   "source": [
    "Our snmpget() function is rather functional but we are still referencing the global variables for host,port,community defined back at the top of this notebook.\n",
    "\n",
    "Lets make this code even more reusable by encapsulating everything into a `Class`"
   ]
  },
  {
   "cell_type": "code",
   "execution_count": 15,
   "metadata": {
    "collapsed": false
   },
   "outputs": [],
   "source": [
    "class SNMPClient:\n",
    "    # This is the SNMPClient constructor\n",
    "    def __init__(self, host, port=161, community='public'):\n",
    "        \n",
    "        self.host = host\n",
    "        self.port = port\n",
    "        self.community = community\n",
    "\n",
    "    def snmpget(self, oid, *more_oids):\n",
    "\n",
    "        from pysnmp.entity.rfc3413.oneliner import cmdgen\n",
    "\n",
    "        cmdGen = cmdgen.CommandGenerator()\n",
    "\n",
    "        \n",
    "        errorIndication, errorStatus, errorIndex, varBinds = cmdGen.getCmd(\n",
    "            cmdgen.CommunityData(self.community),\n",
    "            cmdgen.UdpTransportTarget((self.host, self.port)),\n",
    "            oid,\n",
    "            *more_oids\n",
    "        )\n",
    "\n",
    "        # Predefine our results list    \n",
    "        results = []\n",
    "\n",
    "        # Check for errors and print out results\n",
    "        if errorIndication:\n",
    "            print(errorIndication)\n",
    "        else:\n",
    "            if errorStatus:\n",
    "                print('%s at %s' % (\n",
    "                    errorStatus.prettyPrint(),\n",
    "                    errorIndex and varBinds[int(errorIndex)-1] or '?'\n",
    "                    )\n",
    "                )\n",
    "            else:\n",
    "                for name, val in varBinds:\n",
    "                    results.append( val )\n",
    "\n",
    "            if len(results) == 1:\n",
    "                return results[0]\n",
    "            else:\n",
    "                return results\n"
   ]
  },
  {
   "cell_type": "code",
   "execution_count": 16,
   "metadata": {
    "collapsed": false
   },
   "outputs": [
    {
     "name": "stdout",
     "output_type": "stream",
     "text": [
      "Dell Inc.\n",
      "PowerEdge R720\n",
      "PS1 Current 1\n",
      "PS2 Current 2\n",
      "System Board Pwr Consumption\n",
      "16\n",
      "0\n",
      "196\n"
     ]
    }
   ],
   "source": [
    "myClient = SNMPClient('192.168.1.60', 161, 'public')\n",
    "\n",
    "results = myClient.snmpget('1.3.6.1.4.1.674.10892.1.300.10.1.8.1', \\\n",
    "                           '1.3.6.1.4.1.674.10892.1.300.10.1.9.1', \\\n",
    "                           '1.3.6.1.4.1.674.10892.1.600.30.1.8.1.1', \\\n",
    "                           '1.3.6.1.4.1.674.10892.1.600.30.1.8.1.2', \\\n",
    "                           '1.3.6.1.4.1.674.10892.1.600.30.1.8.1.3', \\\n",
    "                           '1.3.6.1.4.1.674.10892.1.600.30.1.6.1.1', \\\n",
    "                           '1.3.6.1.4.1.674.10892.1.600.30.1.6.1.2', \\\n",
    "                           '1.3.6.1.4.1.674.10892.1.600.30.1.6.1.3' )\n",
    "\n",
    "for ans in results:\n",
    "    print(ans)\n"
   ]
  },
  {
   "cell_type": "markdown",
   "metadata": {},
   "source": [
    "Now that we have a working SNMP Client that we can use to query the server lets look at some of the interesting data presented by the Dell OpenManage SNMP extensions."
   ]
  },
  {
   "cell_type": "code",
   "execution_count": 17,
   "metadata": {
    "collapsed": true
   },
   "outputs": [],
   "source": [
    "\n",
    "# Get the RU height of the server, this will return 1U for a R630, 2U for a R730, etc.\n",
    "\n",
    "\n",
    "# Cooling Device AKA Fan Location Name\n",
    "# 1.3.6.1.4.1.674.10892.1.700.12.1.8.1.1\n",
    "\n",
    "# Cooling Fan RPMs\n",
    "# 1.3.6.1.4.1.674.10892.1.700.12.1.6.1.1\n",
    "\n",
    "# Cooling Fan Status (3 is OK)\n",
    "# 1.3.6.1.4.1.674.10892.1.700.12.1.5.1.1\n",
    "\n",
    "# Cooling Unit Status (All Fans considers (3 is OK)\n",
    "# 1.3.6.1.4.1.674.10892.1.700.10.1.8.1.1\n",
    "\n",
    "\n",
    "# Temp Probe Location(s)\n",
    "# 1.3.6.1.4.1.674.10892.1.700.20.1.8.1.1\n",
    "# 1.3.6.1.4.1.674.10892.1.700.20.1.8.1.2\n",
    "\n",
    "# Temp Reading (Value is Celius 1/10 Degree)\n",
    "# 1.3.6.1.4.1.674.10892.1.700.20.1.6.1.1\n",
    "# 1.3.6.1.4.1.674.10892.1.700.20.1.6.1.2\n",
    "\n"
   ]
  },
  {
   "cell_type": "markdown",
   "metadata": {},
   "source": [
    "When we query the system's temperature probes tthe value is returned in celsius at a resolution of 1/10 of a degree.\n",
    "\n",
    "So a value of 234 is 23.4 celsius.\n",
    "\n",
    "To get this value we simple divide by 10.\n",
    "\n",
    "Additionally, I want the temperature reading in Fahrenheit so we use the formula to convert Celsius to Fahrenheit.\n",
    "\n",
    "T(F) = T(C) x 9/5 + 32\n",
    "\n"
   ]
  },
  {
   "cell_type": "code",
   "execution_count": 30,
   "metadata": {
    "collapsed": false,
    "scrolled": true
   },
   "outputs": [
    {
     "name": "stdout",
     "output_type": "stream",
     "text": [
      "System Board Inlet Temp: 69F\n",
      "System Board Exhaust Temp: 95F\n"
     ]
    }
   ],
   "source": [
    "myClient = SNMPClient('192.168.1.60', 161, 'public')\n",
    "\n",
    "results = myClient.snmpget('1.3.6.1.4.1.674.10892.1.700.20.1.8.1.1', \\\n",
    "                           '1.3.6.1.4.1.674.10892.1.700.20.1.6.1.1', \\\n",
    "                           '1.3.6.1.4.1.674.10892.1.700.20.1.8.1.2', \\\n",
    "                           '1.3.6.1.4.1.674.10892.1.700.20.1.6.1.2')\n",
    "\n",
    "temp1 = results[1]\n",
    "# Divide by 10\n",
    "temp1_in_c = temp1 / 10\n",
    "# Convert Celsius to Fahrenheit\n",
    "temp1_in_f = temp1_in_c * (9/5) + 32\n",
    "# Print the results\n",
    "print(results[0] +\": \"+ str( temp1_in_f ) + 'F') \n",
    "\n",
    "\n",
    "temp2 = results[3]\n",
    "# Divide by 10\n",
    "temp2_in_c = temp2 / 10\n",
    "# Convert Celsius to Fahrenheit\n",
    "temp2_in_f = temp2_in_c * (9/5) + 32\n",
    "# Print the results\n",
    "print(results[2] +\": \"+ str( temp2_in_f ) + 'F') "
   ]
  },
  {
   "cell_type": "markdown",
   "metadata": {},
   "source": [
    "I hope you find this python example useful and educational. You are free to use the above code how you see fit.\n",
    "\n",
    "* More Python Tutorials - http://jcutrer.com/howto/dev/python/\n",
    "* Question, Comments, Suggestions - http://jcutrer.com/howto/dev/python/python-tutorial-query-dell-poweredge-temperature-snmp-data\n",
    "\n",
    "\n"
   ]
  },
  {
   "cell_type": "code",
   "execution_count": null,
   "metadata": {
    "collapsed": true
   },
   "outputs": [],
   "source": []
  }
 ],
 "metadata": {
  "kernelspec": {
   "display_name": "Python 3",
   "language": "python",
   "name": "python3"
  },
  "language_info": {
   "codemirror_mode": {
    "name": "ipython",
    "version": 3
   },
   "file_extension": ".py",
   "mimetype": "text/x-python",
   "name": "python",
   "nbconvert_exporter": "python",
   "pygments_lexer": "ipython3",
   "version": "3.5.0"
  }
 },
 "nbformat": 4,
 "nbformat_minor": 0
}
